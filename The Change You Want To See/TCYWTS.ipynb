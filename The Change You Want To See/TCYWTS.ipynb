{
  "cells": [
    {
      "cell_type": "code",
      "source": [
        "from google.colab import drive\n",
        "drive.mount('/content/drive', force_remount=True)"
      ],
      "metadata": {
        "colab": {
          "base_uri": "https://localhost:8080/"
        },
        "id": "LBlSfz4bMwMy",
        "outputId": "ec6abb75-e20d-4646-f348-ebdb586300e0"
      },
      "execution_count": null,
      "outputs": [
        {
          "output_type": "stream",
          "name": "stdout",
          "text": [
            "Mounted at /content/drive\n"
          ]
        }
      ]
    },
    {
      "cell_type": "markdown",
      "source": [
        "### Training the Model"
      ],
      "metadata": {
        "id": "OY2djHuVyq0R"
      }
    },
    {
      "cell_type": "code",
      "execution_count": null,
      "metadata": {
        "id": "-oXS0-lR8_L4"
      },
      "outputs": [],
      "source": [
        "#Train\n",
        "!python \"/content/drive/MyDrive/Fall 2022/CS 5824/The-Change-You-Want-to-See/main.py\" --method centernet --quick_prototype  --config_file \"/content/drive/MyDrive/Fall 2022/CS 5824/The-Change-You-Want-to-See/configs/detection_resnet50_3x_noam_layers_affine.yml\" --max_epochs 200 --decoder_attention scse"
      ]
    },
    {
      "cell_type": "markdown",
      "source": [
        "### Testing the Model (using pretrained model)"
      ],
      "metadata": {
        "id": "GNWV_7D6yusd"
      }
    },
    {
      "cell_type": "code",
      "execution_count": null,
      "metadata": {
        "id": "9OLSOy179NMc",
        "colab": {
          "base_uri": "https://localhost:8080/"
        },
        "outputId": "b1625870-c54a-4567-ba86-d9fa66093fd3"
      },
      "outputs": [
        {
          "output_type": "stream",
          "name": "stdout",
          "text": [
            "/usr/local/lib/python3.8/dist-packages/mmcv/__init__.py:20: UserWarning: On January 1, 2023, MMCV will release v2.0.0, in which it will remove components related to the training process and add a data transformation module. In addition, it will rename the package names mmcv to mmcv-lite and mmcv-full to mmcv. See https://github.com/open-mmlab/mmcv/blob/master/docs/en/compatibility.md for more details.\n",
            "  warnings.warn(\n",
            "\u001b[32m2022-12-04 21:41:08.326\u001b[0m | \u001b[1mINFO    \u001b[0m | \u001b[36m__main__\u001b[0m:\u001b[36mprint_args\u001b[0m:\u001b[36m22\u001b[0m - \u001b[1m{'encoder': 'resnet50', 'attention': 'coam', 'coam_layer_data': [3, [2048, 1024, 512], [256, 128, 64]], 'lr': 0.0001, 'weight_decay': 0.0005, 'batch_size': 16, 'test_batch_size': 16, 'num_dataloader_workers': 8, 'datasets': {'train_dataset': {'name': 'kubric', 'class': 'KubricChange', 'args': {'path_to_dataset': '/content/drive/MyDrive/Fall 2022/CS 5824/The-Change-You-Want-to-See/data_dir/Cross-data', 'split': 'train', 'method': 'centernet'}}, 'val_dataset': {'name': 'kubric', 'class': 'KubricChange', 'args': {'path_to_dataset': '/content/drive/MyDrive/Fall 2022/CS 5824/The-Change-You-Want-to-See/data_dir/kubric-change', 'split': 'train', 'method': 'centernet'}}, 'test_datasets': [{'name': 'kubric', 'class': 'KubricChange', 'args': {'path_to_dataset': '/content/drive/MyDrive/Fall 2022/CS 5824/The-Change-You-Want-to-See/data_dir/Cross-data', 'split': 'train', 'method': 'centernet'}}]}, 'method': 'centernet', 'no_logging': False, 'wandb_id': None, 'test_from_checkpoint': '/content/drive/MyDrive/Fall 2022/CS 5824/The-Change-You-Want-to-See/pretrained-resnet50-3x-coam-scSE-affine.ckpt', 'quick_prototype': False, 'load_weights_from': None, 'config_file': '/content/drive/MyDrive/Fall 2022/CS 5824/The-Change-You-Want-to-See/configs/detection_resnet50_3x_coam_layers_affine.yml', 'experiment_name': None, 'decoder_attention': 'scse', 'logger': True, 'checkpoint_callback': None, 'enable_checkpointing': True, 'default_root_dir': None, 'gradient_clip_val': None, 'gradient_clip_algorithm': None, 'process_position': 0, 'num_nodes': 1, 'num_processes': None, 'devices': None, 'gpus': 0, 'auto_select_gpus': False, 'tpu_cores': None, 'ipus': None, 'log_gpu_memory': None, 'progress_bar_refresh_rate': None, 'enable_progress_bar': True, 'overfit_batches': 0.0, 'track_grad_norm': -1, 'check_val_every_n_epoch': 1, 'fast_dev_run': False, 'accumulate_grad_batches': None, 'max_epochs': None, 'min_epochs': None, 'max_steps': -1, 'min_steps': None, 'max_time': None, 'limit_train_batches': None, 'limit_val_batches': None, 'limit_test_batches': None, 'limit_predict_batches': None, 'val_check_interval': None, 'flush_logs_every_n_steps': None, 'log_every_n_steps': 50, 'accelerator': None, 'strategy': None, 'sync_batchnorm': False, 'precision': 32, 'enable_model_summary': True, 'weights_summary': 'top', 'weights_save_path': None, 'num_sanity_val_steps': 2, 'resume_from_checkpoint': None, 'profiler': None, 'benchmark': None, 'deterministic': False, 'reload_dataloaders_every_n_epochs': 0, 'auto_lr_find': False, 'replace_sampler_ddp': True, 'detect_anomaly': False, 'auto_scale_batch_size': False, 'prepare_data_per_node': None, 'plugins': None, 'amp_backend': 'native', 'amp_level': None, 'move_metrics_to_cpu': False, 'multiple_trainloader_mode': 'max_size_cycle', 'stochastic_weight_avg': False, 'terminate_on_nan': None}\u001b[0m\n",
            "Global seed set to 1\n",
            "\u001b[34m\u001b[1mwandb\u001b[0m: Currently logged in as: \u001b[33melizabethchristman\u001b[0m. Use \u001b[1m`wandb login --relogin`\u001b[0m to force relogin\n",
            "\u001b[34m\u001b[1mwandb\u001b[0m: Tracking run with wandb version 0.13.5\n",
            "\u001b[34m\u001b[1mwandb\u001b[0m: Run data is saved locally in \u001b[35m\u001b[1m/work/rs/logs/wandb/run-20221204_214110-sksgldcs\u001b[0m\n",
            "\u001b[34m\u001b[1mwandb\u001b[0m: Run \u001b[1m`wandb offline`\u001b[0m to turn off syncing.\n",
            "\u001b[34m\u001b[1mwandb\u001b[0m: Syncing run \u001b[33mdaily-music-77\u001b[0m\n",
            "\u001b[34m\u001b[1mwandb\u001b[0m: ⭐️ View project at \u001b[34m\u001b[4mhttps://wandb.ai/elizabethchristman/badlaav\u001b[0m\n",
            "\u001b[34m\u001b[1mwandb\u001b[0m: 🚀 View run at \u001b[34m\u001b[4mhttps://wandb.ai/elizabethchristman/badlaav/runs/sksgldcs\u001b[0m\n",
            "{'encoder': 'resnet50', 'attention': 'coam', 'coam_layer_data': [3, [2048, 1024, 512], [256, 128, 64]], 'lr': 0.0001, 'weight_decay': 0.0005, 'batch_size': 16, 'test_batch_size': 16, 'num_dataloader_workers': 8, 'datasets': {'train_dataset': {'name': 'kubric', 'class': 'KubricChange', 'args': {'path_to_dataset': '/content/drive/MyDrive/Fall 2022/CS 5824/The-Change-You-Want-to-See/data_dir/Cross-data', 'split': 'train', 'method': 'centernet'}}, 'val_dataset': {'name': 'kubric', 'class': 'KubricChange', 'args': {'path_to_dataset': '/content/drive/MyDrive/Fall 2022/CS 5824/The-Change-You-Want-to-See/data_dir/kubric-change', 'split': 'train', 'method': 'centernet'}}, 'test_datasets': [{'name': 'kubric', 'class': 'KubricChange', 'args': {'path_to_dataset': '/content/drive/MyDrive/Fall 2022/CS 5824/The-Change-You-Want-to-See/data_dir/Cross-data', 'split': 'train', 'method': 'centernet'}}]}, 'method': 'centernet', 'no_logging': False, 'wandb_id': None, 'test_from_checkpoint': '/content/drive/MyDrive/Fall 2022/CS 5824/The-Change-You-Want-to-See/pretrained-resnet50-3x-coam-scSE-affine.ckpt', 'quick_prototype': False, 'load_weights_from': None, 'config_file': '/content/drive/MyDrive/Fall 2022/CS 5824/The-Change-You-Want-to-See/configs/detection_resnet50_3x_coam_layers_affine.yml', 'experiment_name': None, 'decoder_attention': 'scse', 'logger': True, 'checkpoint_callback': None, 'enable_checkpointing': True, 'default_root_dir': None, 'gradient_clip_val': None, 'gradient_clip_algorithm': None, 'process_position': 0, 'num_nodes': 1, 'num_processes': None, 'devices': None, 'gpus': 0, 'auto_select_gpus': False, 'tpu_cores': None, 'ipus': None, 'log_gpu_memory': None, 'progress_bar_refresh_rate': None, 'enable_progress_bar': True, 'overfit_batches': 0.0, 'track_grad_norm': -1, 'check_val_every_n_epoch': 1, 'fast_dev_run': False, 'accumulate_grad_batches': None, 'max_epochs': None, 'min_epochs': None, 'max_steps': -1, 'min_steps': None, 'max_time': None, 'limit_train_batches': None, 'limit_val_batches': None, 'limit_test_batches': None, 'limit_predict_batches': None, 'val_check_interval': None, 'flush_logs_every_n_steps': None, 'log_every_n_steps': 50, 'accelerator': None, 'strategy': None, 'sync_batchnorm': False, 'precision': 32, 'enable_model_summary': True, 'weights_summary': 'top', 'weights_save_path': None, 'num_sanity_val_steps': 2, 'resume_from_checkpoint': None, 'profiler': None, 'benchmark': None, 'deterministic': False, 'reload_dataloaders_every_n_epochs': 0, 'auto_lr_find': False, 'replace_sampler_ddp': True, 'detect_anomaly': False, 'auto_scale_batch_size': False, 'prepare_data_per_node': None, 'plugins': None, 'amp_backend': 'native', 'amp_level': None, 'move_metrics_to_cpu': False, 'multiple_trainloader_mode': 'max_size_cycle', 'stochastic_weight_avg': False, 'terminate_on_nan': None}\n",
            "\u001b[32m2022-12-04 21:41:11.875\u001b[0m | \u001b[1mINFO    \u001b[0m | \u001b[36m__main__\u001b[0m:\u001b[36mtest\u001b[0m:\u001b[36m42\u001b[0m - \u001b[1mTesting model.\u001b[0m\n",
            "GPU available: True, used: True\n",
            "TPU available: False, using: 0 TPU cores\n",
            "IPU available: False, using: 0 IPUs\n",
            "HPU available: False, using: 0 HPUs\n",
            "Restoring states from the checkpoint path at /content/drive/MyDrive/Fall 2022/CS 5824/The-Change-You-Want-to-See/pretrained-resnet50-3x-coam-scSE-affine.ckpt\n",
            "LOCAL_RANK: 0 - CUDA_VISIBLE_DEVICES: [0]\n",
            "Loaded model weights from checkpoint at /content/drive/MyDrive/Fall 2022/CS 5824/The-Change-You-Want-to-See/pretrained-resnet50-3x-coam-scSE-affine.ckpt\n",
            "Testing DataLoader 0: 100% 63/63 [05:45<00:00,  5.49s/it]\u001b[32m2022-12-04 21:47:00.929\u001b[0m | \u001b[1mINFO    \u001b[0m | \u001b[36mmodels.centernet_with_coam\u001b[0m:\u001b[36mtest_epoch_end\u001b[0m:\u001b[36m215\u001b[0m - \u001b[1mkubric AP: [       nan 0.00151395], mAP: 0.0015139478785998832\u001b[0m\n",
            "\u001b[32m2022-12-04 21:47:01.750\u001b[0m | \u001b[1mINFO    \u001b[0m | \u001b[36mmodels.centernet_with_coam\u001b[0m:\u001b[36mlog_qualitative_predictions\u001b[0m:\u001b[36m461\u001b[0m - \u001b[1mFinished computing qualitative predictions for test_kubric.\u001b[0m\n",
            "Testing DataLoader 0: 100% 63/63 [05:47<00:00,  5.52s/it]\n",
            "\u001b[34m\u001b[1mwandb\u001b[0m: Waiting for W&B process to finish... \u001b[32m(success).\u001b[0m\n",
            "\u001b[34m\u001b[1mwandb\u001b[0m: \n",
            "\u001b[34m\u001b[1mwandb\u001b[0m: Run history:\n",
            "\u001b[34m\u001b[1mwandb\u001b[0m: global_step ▁\n",
            "\u001b[34m\u001b[1mwandb\u001b[0m: \n",
            "\u001b[34m\u001b[1mwandb\u001b[0m: Run summary:\n",
            "\u001b[34m\u001b[1mwandb\u001b[0m: global_step 351054\n",
            "\u001b[34m\u001b[1mwandb\u001b[0m: \n",
            "\u001b[34m\u001b[1mwandb\u001b[0m: Synced \u001b[33mdaily-music-77\u001b[0m: \u001b[34m\u001b[4mhttps://wandb.ai/elizabethchristman/badlaav/runs/sksgldcs\u001b[0m\n",
            "\u001b[34m\u001b[1mwandb\u001b[0m: Synced 5 W&B file(s), 60 media file(s), 0 artifact file(s) and 0 other file(s)\n",
            "\u001b[34m\u001b[1mwandb\u001b[0m: Find logs at: \u001b[35m\u001b[1m/work/rs/logs/wandb/run-20221204_214110-sksgldcs/logs\u001b[0m\n"
          ]
        }
      ],
      "source": [
        "#Test\n",
        "!python \"/content/drive/MyDrive/Fall 2022/CS 5824/The-Change-You-Want-to-See/main.py\" --method centernet --gpu 0 --config_file \"/content/drive/MyDrive/Fall 2022/CS 5824/The-Change-You-Want-to-See/configs/detection_resnet50_3x_coam_layers_affine.yml\" --decoder_attention scse --test_from_checkpoint \"/content/drive/MyDrive/Fall 2022/CS 5824/The-Change-You-Want-to-See/pretrained-resnet50-3x-coam-scSE-affine.ckpt\""
      ]
    },
    {
      "cell_type": "markdown",
      "source": [
        "### Running Demo File"
      ],
      "metadata": {
        "id": "Y5WVg-f6y5DF"
      }
    },
    {
      "cell_type": "code",
      "source": [
        "#Demo Files\n",
        "!python '/content/drive/MyDrive/Fall 2022/CS 5824/The-Change-You-Want-to-See/demo_single_pair.py' --load_weights_from '/content/drive/MyDrive/Fall 2022/CS 5824/The-Change-You-Want-to-See/pretrained-resnet50-3x-coam-scSE-affine.ckpt' --config_file \"/content/drive/MyDrive/Fall 2022/CS 5824/The-Change-You-Want-to-See/configs/detection_resnet50_3x_coam_layers_affine.yml\" --decoder_attention scse"
      ],
      "metadata": {
        "id": "2y1Lz7zl0-xI"
      },
      "execution_count": null,
      "outputs": []
    },
    {
      "cell_type": "code",
      "source": [
        "!ls '/content/drive/MyDrive/Fall 2022/CS 5824/The-Change-You-Want-to-See/data_dir/Cross_data'"
      ],
      "metadata": {
        "id": "0CibOskrwNfM"
      },
      "execution_count": null,
      "outputs": []
    },
    {
      "cell_type": "markdown",
      "source": [
        "### Function Testing/Editing"
      ],
      "metadata": {
        "id": "JUr7vpqjy_jM"
      }
    },
    {
      "cell_type": "code",
      "source": [
        "import numpy as np\n",
        "with open('/content/drive/MyDrive/Fall 2022/CS 5824/The-Change-You-Want-to-See/data_dir/Cross_data/metadata.npy', 'rb') as f:\n",
        "  a = np.load(f)\n",
        "\n",
        "print(a)"
      ],
      "metadata": {
        "id": "5zjRtuRZ80bU"
      },
      "execution_count": null,
      "outputs": []
    },
    {
      "cell_type": "code",
      "source": [
        "from scipy.ndimage import label as label_connected_components\n",
        "from einops import rearrange\n",
        "mask_path = '/content/drive/MyDrive/Fall 2022/CS 5824/The-Change-You-Want-to-See/data_dir/Cross-data/mask_0_0_1_00000.png'\n",
        "pil_image = Image.open(mask_path)\n",
        "mask_as_np_array = np.array(pil_image)\n",
        "print(mask_as_np_array.shape)\n",
        "(\n",
        "    connected_components,\n",
        "    number_of_components,\n",
        ") = label_connected_components(mask_as_np_array)\n",
        "print(\"====Connected components====\")\n",
        "print(connected_components)\n",
        "print(\"====Number of components====\")\n",
        "print(number_of_components)\n",
        "if(number_of_components != 0):\n",
        "  masks = []\n",
        "  for i in range(number_of_components):\n",
        "      masks.append(connected_components == i + 1)\n",
        "  masks = rearrange(masks, \"c h w -> h w c\")\n"
      ],
      "metadata": {
        "colab": {
          "base_uri": "https://localhost:8080/"
        },
        "id": "BIRVCrx04fFf",
        "outputId": "14cd2eff-df03-463d-be47-b0bbe02d3d3c"
      },
      "execution_count": null,
      "outputs": [
        {
          "output_type": "stream",
          "name": "stdout",
          "text": [
            "(256, 256)\n",
            "====Connected components====\n",
            "[[0 0 0 ... 0 0 0]\n",
            " [0 0 0 ... 0 0 0]\n",
            " [0 0 0 ... 0 0 0]\n",
            " ...\n",
            " [0 0 0 ... 0 0 0]\n",
            " [0 0 0 ... 0 0 0]\n",
            " [0 0 0 ... 0 0 0]]\n",
            "====Number of components====\n",
            "6\n"
          ]
        }
      ]
    },
    {
      "cell_type": "code",
      "source": [],
      "metadata": {
        "id": "GqHJn0bTEymI"
      },
      "execution_count": null,
      "outputs": []
    },
    {
      "cell_type": "markdown",
      "source": [
        "## Environment Setup"
      ],
      "metadata": {
        "id": "_vls49pjymJy"
      }
    },
    {
      "cell_type": "code",
      "source": [
        "import sys\n",
        "# !conda install pytorch torchvision torchaudio cudatoolkit=11.3 -c  --prefix {sys.prefix} pytorch\n",
        "!pip install -r \"/content/drive/MyDrive/Fall 2022/CS 5824/The-Change-You-Want-to-See/requirements.txt\"\n",
        "!pip install pytorch-lightning Cython matplotlib ninja opencv-python scikit-image wandb loguru yacs easydict shapely pre-commit pycocotools h5py einops\n",
        "!pip install segmentation-models-pytorch@git+https://github.com/ragavsachdeva/segmentation_models.pytorch.git@dc6009cc57f4d45662c4e838b5daf26663df4f7c\n",
        "!pip install kornia@git+https://github.com/kornia/kornia@77589a58be6c603b7afd755d261783bd0c152a97\n",
        "!pip install 'git+https://github.com/facebookresearch/detectron2.git'\n",
        "!pip install -r \"/content/drive/MyDrive/Fall 2022/CS 5824/The-Change-You-Want-to-See/req.txt\"\n",
        "# !python -m pip install detectron2 -f https://dl.fbaipublicfiles.com/detectron2/wheels/cu113/torch1.10/index.html\n",
        "#!pip install mmcv-full==1.4.4\n",
        "!pip install mmdet"
      ],
      "metadata": {
        "id": "FuxT7Vd87BXW"
      },
      "execution_count": null,
      "outputs": []
    },
    {
      "cell_type": "code",
      "source": [
        "!pip install mmcv-full==1.7.0 -f https://download.openmmlab.com/mmcv/dist/cu113/torch1.12/index.html"
      ],
      "metadata": {
        "id": "vRwIcvzACVrE",
        "colab": {
          "base_uri": "https://localhost:8080/"
        },
        "outputId": "822a301e-429a-43a8-d62b-7c6b65b3e36c"
      },
      "execution_count": null,
      "outputs": [
        {
          "output_type": "stream",
          "name": "stdout",
          "text": [
            "Looking in indexes: https://pypi.org/simple, https://us-python.pkg.dev/colab-wheels/public/simple/\n",
            "Looking in links: https://download.openmmlab.com/mmcv/dist/cu113/torch1.12/index.html\n",
            "Collecting mmcv-full==1.7.0\n",
            "  Downloading https://download.openmmlab.com/mmcv/dist/cu113/torch1.12.0/mmcv_full-1.7.0-cp38-cp38-manylinux1_x86_64.whl (43.6 MB)\n",
            "\u001b[K     |████████████████████████████████| 43.6 MB 2.0 MB/s \n",
            "\u001b[?25hCollecting addict\n",
            "  Using cached addict-2.4.0-py3-none-any.whl (3.8 kB)\n",
            "Collecting yapf\n",
            "  Using cached yapf-0.32.0-py2.py3-none-any.whl (190 kB)\n",
            "Requirement already satisfied: Pillow in /usr/local/lib/python3.8/dist-packages (from mmcv-full==1.7.0) (7.1.2)\n",
            "Requirement already satisfied: opencv-python>=3 in /usr/local/lib/python3.8/dist-packages (from mmcv-full==1.7.0) (4.6.0.66)\n",
            "Requirement already satisfied: pyyaml in /usr/local/lib/python3.8/dist-packages (from mmcv-full==1.7.0) (6.0)\n",
            "Requirement already satisfied: packaging in /usr/local/lib/python3.8/dist-packages (from mmcv-full==1.7.0) (21.3)\n",
            "Requirement already satisfied: numpy in /usr/local/lib/python3.8/dist-packages (from mmcv-full==1.7.0) (1.22.4)\n",
            "Requirement already satisfied: pyparsing!=3.0.5,>=2.0.2 in /usr/local/lib/python3.8/dist-packages (from packaging->mmcv-full==1.7.0) (3.0.9)\n",
            "Installing collected packages: yapf, addict, mmcv-full\n",
            "Successfully installed addict-2.4.0 mmcv-full-1.7.0 yapf-0.32.0\n"
          ]
        }
      ]
    },
    {
      "cell_type": "code",
      "source": [
        "!pip uninstall pytorch-lightning\n",
        "!pip install pytorch-lightning==1.6"
      ],
      "metadata": {
        "id": "baqCh8K8II6n",
        "colab": {
          "base_uri": "https://localhost:8080/"
        },
        "outputId": "e819963a-0238-4594-dc07-3fdb94098472"
      },
      "execution_count": null,
      "outputs": [
        {
          "output_type": "stream",
          "name": "stdout",
          "text": [
            "Installing collected packages: pyDeprecate, pytorch-lightning\n",
            "Successfully installed pyDeprecate-0.3.2 pytorch-lightning-1.6.0\n"
          ]
        }
      ]
    },
    {
      "cell_type": "code",
      "source": [
        "!pip install torchtext"
      ],
      "metadata": {
        "id": "LcL2moFcN7PW"
      },
      "execution_count": null,
      "outputs": []
    },
    {
      "cell_type": "code",
      "source": [
        "!pip install -r \"/content/drive/MyDrive/The-Change-You-Want-to-See/requirements.txt\""
      ],
      "metadata": {
        "id": "9nU_Wx8cN7R4",
        "colab": {
          "base_uri": "https://localhost:8080/"
        },
        "outputId": "505b9857-7f58-4b48-857c-42113788dda1"
      },
      "execution_count": null,
      "outputs": [
        {
          "output_type": "stream",
          "name": "stdout",
          "text": [
            "Looking in indexes: https://pypi.org/simple, https://us-python.pkg.dev/colab-wheels/public/simple/\n",
            "Collecting detectron2@ git+https://github.com/facebookresearch/detectron2.git@2d6106bb9251f388fdac0ce21c50514fba827fb4\n",
            "  Cloning https://github.com/facebookresearch/detectron2.git (to revision 2d6106bb9251f388fdac0ce21c50514fba827fb4) to /tmp/pip-install-_kkwkebw/detectron2_712c2c1962154581a8e0e9a1a9746d3b\n",
            "  Running command git clone -q https://github.com/facebookresearch/detectron2.git /tmp/pip-install-_kkwkebw/detectron2_712c2c1962154581a8e0e9a1a9746d3b\n",
            "  Running command git rev-parse -q --verify 'sha^2d6106bb9251f388fdac0ce21c50514fba827fb4'\n",
            "  Running command git fetch -q https://github.com/facebookresearch/detectron2.git 2d6106bb9251f388fdac0ce21c50514fba827fb4\n",
            "  Running command git checkout -q 2d6106bb9251f388fdac0ce21c50514fba827fb4\n",
            "Collecting en-core-web-sm@ https://github.com/explosion/spacy-models/releases/download/en_core_web_sm-3.4.1/en_core_web_sm-3.4.1-py3-none-any.whl\n",
            "  Downloading https://github.com/explosion/spacy-models/releases/download/en_core_web_sm-3.4.1/en_core_web_sm-3.4.1-py3-none-any.whl (12.8 MB)\n",
            "\u001b[K     |████████████████████████████████| 12.8 MB 1.7 MB/s \n",
            "\u001b[?25hProcessing /colabtools/dist/google-colab-1.0.0.tar.gz\n",
            "\u001b[31mERROR: Could not install packages due to an OSError: [Errno 2] No such file or directory: '/colabtools/dist/google-colab-1.0.0.tar.gz'\n",
            "\u001b[0m\n"
          ]
        }
      ]
    },
    {
      "cell_type": "code",
      "source": [],
      "metadata": {
        "id": "jicWMnWoN7UQ"
      },
      "execution_count": null,
      "outputs": []
    },
    {
      "cell_type": "code",
      "execution_count": null,
      "metadata": {
        "id": "rOgSINvLrJ26"
      },
      "outputs": [],
      "source": [
        "!pip install -r \"/content/drive/MyDrive/CS 5824/The-Change-You-Want-to-See-main/requirements/option2.txt\"\n",
        "!pip install setuptools==58.2.0\n",
        "!pip install mmdet==2.20.0\n",
        "!pip install mmcv-full==1.4.4\n",
        "!python -m pip install detectron2 -f https://dl.fbaipublicfiles.com/detectron2/wheels/cu113/torch1.10/index.html"
      ]
    },
    {
      "cell_type": "code",
      "execution_count": null,
      "metadata": {
        "id": "yyp9C1v7819d"
      },
      "outputs": [],
      "source": [
        "!pip install pytorch-lightning Cython matplotlib ninja opencv-python scikit-image wandb loguru yacs easydict shapely pre-commit pycocotools h5py einops\n",
        "!pip install segmentation-models-pytorch@git+https://github.com/ragavsachdeva/segmentation_models.pytorch.git@dc6009cc57f4d45662c4e838b5daf26663df4f7c\n",
        "!pip install kornia@git+https://github.com/kornia/kornia@77589a58be6c603b7afd755d261783bd0c152a97\n",
        "!python -m pip install 'git+https://github.com/facebookresearch/detectron2.git'"
      ]
    }
  ],
  "metadata": {
    "accelerator": "GPU",
    "colab": {
      "provenance": []
    },
    "gpuClass": "premium",
    "kernelspec": {
      "display_name": "Python 3",
      "name": "python3"
    },
    "language_info": {
      "name": "python"
    }
  },
  "nbformat": 4,
  "nbformat_minor": 0
}